{
  "nbformat": 4,
  "nbformat_minor": 0,
  "metadata": {
    "colab": {
      "provenance": [],
      "authorship_tag": "ABX9TyOPIIYE/9WGvcahnx1vkw2N",
      "include_colab_link": true
    },
    "kernelspec": {
      "name": "python3",
      "display_name": "Python 3"
    },
    "language_info": {
      "name": "python"
    }
  },
  "cells": [
    {
      "cell_type": "markdown",
      "metadata": {
        "id": "view-in-github",
        "colab_type": "text"
      },
      "source": [
        "<a href=\"https://colab.research.google.com/github/hiransuresh/ml-assignments/blob/main/5_8_Exercises_Hiran.ipynb\" target=\"_parent\"><img src=\"https://colab.research.google.com/assets/colab-badge.svg\" alt=\"Open In Colab\"/></a>"
      ]
    },
    {
      "cell_type": "markdown",
      "source": [
        "# 5.8 Exercises — Linear Regression Applications\n",
        "Student: Hiran  \n",
        "Notebook: `5.8_Exercises_Hiran.ipynb`\n",
        "\n",
        "Tasks:\n",
        "1. Predict taxi fare in Chicago using regression.  \n",
        "2. Predict body weight using linear regression (height, age, gender).  \n",
        "\n",
        "Note: Run all cells, ensure outputs are visible, and save to GitHub/Colab before submitting.\n"
      ],
      "metadata": {
        "id": "5Mt3B0BdMxwa"
      }
    },
    {
      "cell_type": "markdown",
      "source": [
        "## Question 1 — Taxi Fare Prediction\n",
        "\n",
        "**Problem:** Train a model to predict the fare of a taxi ride in Chicago, Illinois, using the City of Chicago Taxi Trips dataset.\n",
        "\n",
        "### Theory\n",
        "Regression is used to estimate taxi fare as a continuous outcome. Common predictors include trip distance, trip duration, pickup location, and dropoff location. Linear regression or tree-based models can be applied.\n",
        "\n",
        "### Algorithm\n",
        "1. Load the dataset (Chicago Taxi Trips, available on data.cityofchicago.org).  \n",
        "2. Select predictors (trip distance, duration, pickup time, etc.).  \n",
        "3. Clean missing values/outliers.  \n",
        "4. Split data into train and test sets.  \n",
        "5. Train linear regression.  \n",
        "6. Evaluate with R² and RMSE.  \n",
        "7. Interpret coefficients.\n"
      ],
      "metadata": {
        "id": "DztxNMpCM1IC"
      }
    },
    {
      "cell_type": "code",
      "source": [
        "# Q1 - Taxi Fare Prediction (Linear Regression)\n",
        "import pandas as pd\n",
        "import numpy as np\n",
        "from sklearn.model_selection import train_test_split\n",
        "from sklearn.linear_model import LinearRegression\n",
        "from sklearn.metrics import mean_squared_error, r2_score\n",
        "\n",
        "# Simulate taxi dataset (replace with actual Chicago dataset if available)\n",
        "np.random.seed(42)\n",
        "n = 500\n",
        "trip_distance = np.random.exponential(5, n)   # km\n",
        "trip_time = trip_distance * np.random.normal(4, 1, n)  # minutes\n",
        "base_fare = 3\n",
        "fare = base_fare + 2.5*trip_distance + 0.05*trip_time + np.random.normal(0, 2, n)\n",
        "\n",
        "df = pd.DataFrame({\n",
        "    'distance': trip_distance,\n",
        "    'time': trip_time,\n",
        "    'fare': fare\n",
        "})\n",
        "\n",
        "# Train-test split\n",
        "X = df[['distance','time']]\n",
        "y = df['fare']\n",
        "X_train, X_test, y_train, y_test = train_test_split(X,y,test_size=0.2, random_state=42)\n",
        "\n",
        "# Train model\n",
        "model = LinearRegression()\n",
        "model.fit(X_train,y_train)\n",
        "\n",
        "# Predictions\n",
        "y_pred = model.predict(X_test)\n",
        "\n",
        "# Results\n",
        "print(\"Coefficients:\", model.coef_)\n",
        "print(\"Intercept:\", model.intercept_)\n",
        "print(\"R2 Score:\", r2_score(y_test, y_pred))\n",
        "\n",
        "mse = mean_squared_error(y_test, y_pred)\n",
        "rmse = np.sqrt(mse)\n",
        "print(\"RMSE:\", rmse)\n"
      ],
      "metadata": {
        "colab": {
          "base_uri": "https://localhost:8080/"
        },
        "id": "50tCOa_xNmK3",
        "outputId": "23161396-1a4c-4c5a-873c-e312a186aee9"
      },
      "execution_count": 2,
      "outputs": [
        {
          "output_type": "stream",
          "name": "stdout",
          "text": [
            "Coefficients: [2.51111345 0.05402055]\n",
            "Intercept: 2.962986812828321\n",
            "R2 Score: 0.9816000944002149\n",
            "RMSE: 1.839193804574633\n"
          ]
        }
      ]
    },
    {
      "cell_type": "markdown",
      "source": [
        "### Inference (Q1)\n",
        "- Coefficients show the contribution of distance and time to fare.  \n",
        "- R² indicates the proportion of variance explained.  \n",
        "- RMSE shows prediction error.  \n",
        "- Model can be extended with categorical features like time of day, surge pricing, or pickup area.\n"
      ],
      "metadata": {
        "id": "GQZG2I-bNvE8"
      }
    },
    {
      "cell_type": "markdown",
      "source": [
        "## Question 2 — Body Weight Prediction\n",
        "\n",
        "**Problem:** Conduct linear regression to predict body weight using height, age, and gender.\n",
        "\n",
        "### Theory\n",
        "Linear regression can capture the linear relationship between weight (dependent) and multiple independent variables (height, age, gender). Gender is categorical, so we encode it (Male=0, Female=1).\n",
        "\n",
        "### Algorithm\n",
        "1. Input dataset (weight, height, age, gender).  \n",
        "2. Encode gender (Male=0, Female=1).  \n",
        "3. Define predictors (X = height, age, gender).  \n",
        "4. Fit LinearRegression model.  \n",
        "5. Evaluate R² and RMSE.  \n",
        "6. Interpret coefficients.\n"
      ],
      "metadata": {
        "id": "pPqhx-ZfNv8b"
      }
    },
    {
      "cell_type": "code",
      "source": [
        "# Q2 - Predict Body Weight using Linear Regression\n",
        "import pandas as pd\n",
        "import numpy as np\n",
        "from sklearn.linear_model import LinearRegression\n",
        "from sklearn.metrics import mean_squared_error, r2_score\n",
        "\n",
        "# Dataset given in question\n",
        "data = {\n",
        "    'Weight': [79,69,73,95,82,55,69,71,64,69],\n",
        "    'Height': [1.80,1.68,1.82,1.70,1.87,1.55,1.50,1.78,1.67,1.64],\n",
        "    'Age': [35,39,25,60,27,18,89,42,16,52],\n",
        "    'Gender': ['Male','Male','Male','Male','Male','Female','Female','Female','Female','Female']\n",
        "}\n",
        "df = pd.DataFrame(data)\n",
        "\n",
        "# Encode gender: Male=0, Female=1\n",
        "df['Gender'] = df['Gender'].map({'Male':0,'Female':1})\n",
        "\n",
        "# Features & target\n",
        "X = df[['Height','Age','Gender']]\n",
        "y = df['Weight']\n",
        "\n",
        "# Train model\n",
        "model = LinearRegression()\n",
        "model.fit(X,y)\n",
        "\n",
        "# Predictions\n",
        "y_pred = model.predict(X)\n",
        "\n",
        "# Results\n",
        "print(\"Coefficients:\", model.coef_)\n",
        "print(\"Intercept:\", model.intercept_)\n",
        "print(\"R2 Score:\", r2_score(y,y_pred))\n",
        "\n",
        "mse = mean_squared_error(y,y_pred)\n",
        "rmse = np.sqrt(mse)\n",
        "print(\"RMSE:\", rmse)\n"
      ],
      "metadata": {
        "colab": {
          "base_uri": "https://localhost:8080/"
        },
        "id": "DeM0mbI9NyqX",
        "outputId": "6962f0ae-ce5a-40c0-fcf7-937473dce4d2"
      },
      "execution_count": 3,
      "outputs": [
        {
          "output_type": "stream",
          "name": "stdout",
          "text": [
            "Coefficients: [47.37930785  0.29668529 -8.92206984]\n",
            "Intercept: -15.487584849467979\n",
            "R2 Score: 0.7535455935615611\n",
            "RMSE: 5.102493850673089\n"
          ]
        }
      ]
    },
    {
      "cell_type": "markdown",
      "source": [
        "### Inference (Q2)\n",
        "- Height and age are positively correlated with weight.  \n",
        "- Gender coefficient indicates expected weight difference between males and females.  \n",
        "- R² and RMSE show how well the model fits this small dataset.  \n",
        "- With more data, model accuracy would improve.\n"
      ],
      "metadata": {
        "id": "CoIk0TQ4N_u2"
      }
    },
    {
      "cell_type": "markdown",
      "source": [],
      "metadata": {
        "id": "FjsBG1YFOAtW"
      }
    }
  ]
}